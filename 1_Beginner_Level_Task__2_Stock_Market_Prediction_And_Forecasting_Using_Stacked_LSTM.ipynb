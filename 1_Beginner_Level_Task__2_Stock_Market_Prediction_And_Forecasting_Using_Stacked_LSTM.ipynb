{
  "nbformat": 4,
  "nbformat_minor": 0,
  "metadata": {
    "colab": {
      "provenance": [],
      "include_colab_link": true
    },
    "kernelspec": {
      "name": "python3",
      "display_name": "Python 3"
    },
    "language_info": {
      "name": "python"
    }
  },
  "cells": [
    {
      "cell_type": "markdown",
      "metadata": {
        "id": "view-in-github",
        "colab_type": "text"
      },
      "source": [
        "<a href=\"https://colab.research.google.com/github/PranavNeharkar/LGM/blob/main/1_Beginner_Level_Task__2_Stock_Market_Prediction_And_Forecasting_Using_Stacked_LSTM.ipynb\" target=\"_parent\"><img src=\"https://colab.research.google.com/assets/colab-badge.svg\" alt=\"Open In Colab\"/></a>"
      ]
    },
    {
      "cell_type": "markdown",
      "source": [
        "**NAME : Pranav Nivrutti Neharkar**\n",
        "\n",
        "LGM VIP: Data Science Internship\n",
        "\n",
        "1.Beginner Level Task -Stock Market Prediction And Forecasting Using Stacked LSTM\n",
        "\n",
        "Language-Python\n",
        "\n",
        "Software-Google Colab\n",
        "\n",
        "Dataset-https://raw.githubusercontent.com/mwitiderrick/stockprice/master/NSE-TATAGLOBAL.csv\n",
        "\n",
        "**Importing Required Libraries**"
      ],
      "metadata": {
        "id": "gLXrahX0kxPS"
      }
    },
    {
      "cell_type": "code",
      "source": [
        "import numpy as np\n",
        "import pandas as pd\n",
        "import matplotlib.pyplot as plt\n",
        "import tensorflow as tf\n",
        "from sklearn.preprocessing import MinMaxScaler\n",
        "from tensorflow.keras.models import Sequential\n",
        "from tensorflow.keras.layers import Dense\n",
        "from tensorflow.keras.layers import LSTM\n",
        "import math\n",
        "from sklearn.metrics import mean_squared_error\n",
        "import warnings\n",
        "warnings.filterwarnings(\"ignore\")"
      ],
      "metadata": {
        "id": "p-v9fKtbhjeK"
      },
      "execution_count": 1,
      "outputs": []
    },
    {
      "cell_type": "markdown",
      "source": [
        "**Reading the Dataset**"
      ],
      "metadata": {
        "id": "N55pxnL6k84X"
      }
    },
    {
      "cell_type": "code",
      "source": [
        "data = pd.read_csv(\"https://raw.githubusercontent.com/mwitiderrick/stockprice/master/NSE-TATAGLOBAL.csv\")\n"
      ],
      "metadata": {
        "id": "DHXEzJQKhr2B"
      },
      "execution_count": 2,
      "outputs": []
    },
    {
      "cell_type": "code",
      "source": [
        "data.head()"
      ],
      "metadata": {
        "colab": {
          "base_uri": "https://localhost:8080/",
          "height": 206
        },
        "id": "eXJnqObNhwZq",
        "outputId": "4bdf5e60-079f-4943-ee90-3f93d4942dd2"
      },
      "execution_count": 3,
      "outputs": [
        {
          "output_type": "execute_result",
          "data": {
            "text/plain": [
              "         Date    Open    High     Low    Last   Close  Total Trade Quantity  \\\n",
              "0  2018-09-28  234.05  235.95  230.20  233.50  233.75               3069914   \n",
              "1  2018-09-27  234.55  236.80  231.10  233.80  233.25               5082859   \n",
              "2  2018-09-26  240.00  240.00  232.50  235.00  234.25               2240909   \n",
              "3  2018-09-25  233.30  236.75  232.00  236.25  236.10               2349368   \n",
              "4  2018-09-24  233.55  239.20  230.75  234.00  233.30               3423509   \n",
              "\n",
              "   Turnover (Lacs)  \n",
              "0          7162.35  \n",
              "1         11859.95  \n",
              "2          5248.60  \n",
              "3          5503.90  \n",
              "4          7999.55  "
            ],
            "text/html": [
              "\n",
              "  <div id=\"df-9804cc01-45f0-4444-80fb-07f5fa4e628a\">\n",
              "    <div class=\"colab-df-container\">\n",
              "      <div>\n",
              "<style scoped>\n",
              "    .dataframe tbody tr th:only-of-type {\n",
              "        vertical-align: middle;\n",
              "    }\n",
              "\n",
              "    .dataframe tbody tr th {\n",
              "        vertical-align: top;\n",
              "    }\n",
              "\n",
              "    .dataframe thead th {\n",
              "        text-align: right;\n",
              "    }\n",
              "</style>\n",
              "<table border=\"1\" class=\"dataframe\">\n",
              "  <thead>\n",
              "    <tr style=\"text-align: right;\">\n",
              "      <th></th>\n",
              "      <th>Date</th>\n",
              "      <th>Open</th>\n",
              "      <th>High</th>\n",
              "      <th>Low</th>\n",
              "      <th>Last</th>\n",
              "      <th>Close</th>\n",
              "      <th>Total Trade Quantity</th>\n",
              "      <th>Turnover (Lacs)</th>\n",
              "    </tr>\n",
              "  </thead>\n",
              "  <tbody>\n",
              "    <tr>\n",
              "      <th>0</th>\n",
              "      <td>2018-09-28</td>\n",
              "      <td>234.05</td>\n",
              "      <td>235.95</td>\n",
              "      <td>230.20</td>\n",
              "      <td>233.50</td>\n",
              "      <td>233.75</td>\n",
              "      <td>3069914</td>\n",
              "      <td>7162.35</td>\n",
              "    </tr>\n",
              "    <tr>\n",
              "      <th>1</th>\n",
              "      <td>2018-09-27</td>\n",
              "      <td>234.55</td>\n",
              "      <td>236.80</td>\n",
              "      <td>231.10</td>\n",
              "      <td>233.80</td>\n",
              "      <td>233.25</td>\n",
              "      <td>5082859</td>\n",
              "      <td>11859.95</td>\n",
              "    </tr>\n",
              "    <tr>\n",
              "      <th>2</th>\n",
              "      <td>2018-09-26</td>\n",
              "      <td>240.00</td>\n",
              "      <td>240.00</td>\n",
              "      <td>232.50</td>\n",
              "      <td>235.00</td>\n",
              "      <td>234.25</td>\n",
              "      <td>2240909</td>\n",
              "      <td>5248.60</td>\n",
              "    </tr>\n",
              "    <tr>\n",
              "      <th>3</th>\n",
              "      <td>2018-09-25</td>\n",
              "      <td>233.30</td>\n",
              "      <td>236.75</td>\n",
              "      <td>232.00</td>\n",
              "      <td>236.25</td>\n",
              "      <td>236.10</td>\n",
              "      <td>2349368</td>\n",
              "      <td>5503.90</td>\n",
              "    </tr>\n",
              "    <tr>\n",
              "      <th>4</th>\n",
              "      <td>2018-09-24</td>\n",
              "      <td>233.55</td>\n",
              "      <td>239.20</td>\n",
              "      <td>230.75</td>\n",
              "      <td>234.00</td>\n",
              "      <td>233.30</td>\n",
              "      <td>3423509</td>\n",
              "      <td>7999.55</td>\n",
              "    </tr>\n",
              "  </tbody>\n",
              "</table>\n",
              "</div>\n",
              "      <button class=\"colab-df-convert\" onclick=\"convertToInteractive('df-9804cc01-45f0-4444-80fb-07f5fa4e628a')\"\n",
              "              title=\"Convert this dataframe to an interactive table.\"\n",
              "              style=\"display:none;\">\n",
              "        \n",
              "  <svg xmlns=\"http://www.w3.org/2000/svg\" height=\"24px\"viewBox=\"0 0 24 24\"\n",
              "       width=\"24px\">\n",
              "    <path d=\"M0 0h24v24H0V0z\" fill=\"none\"/>\n",
              "    <path d=\"M18.56 5.44l.94 2.06.94-2.06 2.06-.94-2.06-.94-.94-2.06-.94 2.06-2.06.94zm-11 1L8.5 8.5l.94-2.06 2.06-.94-2.06-.94L8.5 2.5l-.94 2.06-2.06.94zm10 10l.94 2.06.94-2.06 2.06-.94-2.06-.94-.94-2.06-.94 2.06-2.06.94z\"/><path d=\"M17.41 7.96l-1.37-1.37c-.4-.4-.92-.59-1.43-.59-.52 0-1.04.2-1.43.59L10.3 9.45l-7.72 7.72c-.78.78-.78 2.05 0 2.83L4 21.41c.39.39.9.59 1.41.59.51 0 1.02-.2 1.41-.59l7.78-7.78 2.81-2.81c.8-.78.8-2.07 0-2.86zM5.41 20L4 18.59l7.72-7.72 1.47 1.35L5.41 20z\"/>\n",
              "  </svg>\n",
              "      </button>\n",
              "      \n",
              "  <style>\n",
              "    .colab-df-container {\n",
              "      display:flex;\n",
              "      flex-wrap:wrap;\n",
              "      gap: 12px;\n",
              "    }\n",
              "\n",
              "    .colab-df-convert {\n",
              "      background-color: #E8F0FE;\n",
              "      border: none;\n",
              "      border-radius: 50%;\n",
              "      cursor: pointer;\n",
              "      display: none;\n",
              "      fill: #1967D2;\n",
              "      height: 32px;\n",
              "      padding: 0 0 0 0;\n",
              "      width: 32px;\n",
              "    }\n",
              "\n",
              "    .colab-df-convert:hover {\n",
              "      background-color: #E2EBFA;\n",
              "      box-shadow: 0px 1px 2px rgba(60, 64, 67, 0.3), 0px 1px 3px 1px rgba(60, 64, 67, 0.15);\n",
              "      fill: #174EA6;\n",
              "    }\n",
              "\n",
              "    [theme=dark] .colab-df-convert {\n",
              "      background-color: #3B4455;\n",
              "      fill: #D2E3FC;\n",
              "    }\n",
              "\n",
              "    [theme=dark] .colab-df-convert:hover {\n",
              "      background-color: #434B5C;\n",
              "      box-shadow: 0px 1px 3px 1px rgba(0, 0, 0, 0.15);\n",
              "      filter: drop-shadow(0px 1px 2px rgba(0, 0, 0, 0.3));\n",
              "      fill: #FFFFFF;\n",
              "    }\n",
              "  </style>\n",
              "\n",
              "      <script>\n",
              "        const buttonEl =\n",
              "          document.querySelector('#df-9804cc01-45f0-4444-80fb-07f5fa4e628a button.colab-df-convert');\n",
              "        buttonEl.style.display =\n",
              "          google.colab.kernel.accessAllowed ? 'block' : 'none';\n",
              "\n",
              "        async function convertToInteractive(key) {\n",
              "          const element = document.querySelector('#df-9804cc01-45f0-4444-80fb-07f5fa4e628a');\n",
              "          const dataTable =\n",
              "            await google.colab.kernel.invokeFunction('convertToInteractive',\n",
              "                                                     [key], {});\n",
              "          if (!dataTable) return;\n",
              "\n",
              "          const docLinkHtml = 'Like what you see? Visit the ' +\n",
              "            '<a target=\"_blank\" href=https://colab.research.google.com/notebooks/data_table.ipynb>data table notebook</a>'\n",
              "            + ' to learn more about interactive tables.';\n",
              "          element.innerHTML = '';\n",
              "          dataTable['output_type'] = 'display_data';\n",
              "          await google.colab.output.renderOutput(dataTable, element);\n",
              "          const docLink = document.createElement('div');\n",
              "          docLink.innerHTML = docLinkHtml;\n",
              "          element.appendChild(docLink);\n",
              "        }\n",
              "      </script>\n",
              "    </div>\n",
              "  </div>\n",
              "  "
            ]
          },
          "metadata": {},
          "execution_count": 3
        }
      ]
    },
    {
      "cell_type": "markdown",
      "source": [
        "**Data Sorting**"
      ],
      "metadata": {
        "id": "ghuT6DJOlALc"
      }
    },
    {
      "cell_type": "code",
      "source": [
        "data['Date']=pd.to_datetime(data['Date'])\n",
        "print(type(data.Date[0]))"
      ],
      "metadata": {
        "colab": {
          "base_uri": "https://localhost:8080/"
        },
        "id": "b9OBzcAgh4hz",
        "outputId": "bce59f4e-2eb5-48e0-c4e0-ab23c514bcbf"
      },
      "execution_count": 4,
      "outputs": [
        {
          "output_type": "stream",
          "name": "stdout",
          "text": [
            "<class 'pandas._libs.tslibs.timestamps.Timestamp'>\n"
          ]
        }
      ]
    },
    {
      "cell_type": "code",
      "source": [
        "df=data.sort_values(by='Date')\n",
        "df.head()\n"
      ],
      "metadata": {
        "colab": {
          "base_uri": "https://localhost:8080/",
          "height": 206
        },
        "id": "zQ8hWsAch_09",
        "outputId": "64c9658c-3a48-423f-88e1-8299ea4dea6e"
      },
      "execution_count": 5,
      "outputs": [
        {
          "output_type": "execute_result",
          "data": {
            "text/plain": [
              "           Date   Open    High     Low    Last   Close  Total Trade Quantity  \\\n",
              "2034 2010-07-21  122.1  123.00  121.05  121.10  121.55                658666   \n",
              "2033 2010-07-22  120.3  122.00  120.25  120.75  120.90                293312   \n",
              "2032 2010-07-23  121.8  121.95  120.25  120.35  120.65                281312   \n",
              "2031 2010-07-26  120.1  121.00  117.10  117.10  117.60                658440   \n",
              "2030 2010-07-27  117.6  119.50  112.00  118.80  118.65                586100   \n",
              "\n",
              "      Turnover (Lacs)  \n",
              "2034           803.56  \n",
              "2033           355.17  \n",
              "2032           340.31  \n",
              "2031           780.01  \n",
              "2030           694.98  "
            ],
            "text/html": [
              "\n",
              "  <div id=\"df-e6f492ee-790f-4469-b086-7aeec05021f2\">\n",
              "    <div class=\"colab-df-container\">\n",
              "      <div>\n",
              "<style scoped>\n",
              "    .dataframe tbody tr th:only-of-type {\n",
              "        vertical-align: middle;\n",
              "    }\n",
              "\n",
              "    .dataframe tbody tr th {\n",
              "        vertical-align: top;\n",
              "    }\n",
              "\n",
              "    .dataframe thead th {\n",
              "        text-align: right;\n",
              "    }\n",
              "</style>\n",
              "<table border=\"1\" class=\"dataframe\">\n",
              "  <thead>\n",
              "    <tr style=\"text-align: right;\">\n",
              "      <th></th>\n",
              "      <th>Date</th>\n",
              "      <th>Open</th>\n",
              "      <th>High</th>\n",
              "      <th>Low</th>\n",
              "      <th>Last</th>\n",
              "      <th>Close</th>\n",
              "      <th>Total Trade Quantity</th>\n",
              "      <th>Turnover (Lacs)</th>\n",
              "    </tr>\n",
              "  </thead>\n",
              "  <tbody>\n",
              "    <tr>\n",
              "      <th>2034</th>\n",
              "      <td>2010-07-21</td>\n",
              "      <td>122.1</td>\n",
              "      <td>123.00</td>\n",
              "      <td>121.05</td>\n",
              "      <td>121.10</td>\n",
              "      <td>121.55</td>\n",
              "      <td>658666</td>\n",
              "      <td>803.56</td>\n",
              "    </tr>\n",
              "    <tr>\n",
              "      <th>2033</th>\n",
              "      <td>2010-07-22</td>\n",
              "      <td>120.3</td>\n",
              "      <td>122.00</td>\n",
              "      <td>120.25</td>\n",
              "      <td>120.75</td>\n",
              "      <td>120.90</td>\n",
              "      <td>293312</td>\n",
              "      <td>355.17</td>\n",
              "    </tr>\n",
              "    <tr>\n",
              "      <th>2032</th>\n",
              "      <td>2010-07-23</td>\n",
              "      <td>121.8</td>\n",
              "      <td>121.95</td>\n",
              "      <td>120.25</td>\n",
              "      <td>120.35</td>\n",
              "      <td>120.65</td>\n",
              "      <td>281312</td>\n",
              "      <td>340.31</td>\n",
              "    </tr>\n",
              "    <tr>\n",
              "      <th>2031</th>\n",
              "      <td>2010-07-26</td>\n",
              "      <td>120.1</td>\n",
              "      <td>121.00</td>\n",
              "      <td>117.10</td>\n",
              "      <td>117.10</td>\n",
              "      <td>117.60</td>\n",
              "      <td>658440</td>\n",
              "      <td>780.01</td>\n",
              "    </tr>\n",
              "    <tr>\n",
              "      <th>2030</th>\n",
              "      <td>2010-07-27</td>\n",
              "      <td>117.6</td>\n",
              "      <td>119.50</td>\n",
              "      <td>112.00</td>\n",
              "      <td>118.80</td>\n",
              "      <td>118.65</td>\n",
              "      <td>586100</td>\n",
              "      <td>694.98</td>\n",
              "    </tr>\n",
              "  </tbody>\n",
              "</table>\n",
              "</div>\n",
              "      <button class=\"colab-df-convert\" onclick=\"convertToInteractive('df-e6f492ee-790f-4469-b086-7aeec05021f2')\"\n",
              "              title=\"Convert this dataframe to an interactive table.\"\n",
              "              style=\"display:none;\">\n",
              "        \n",
              "  <svg xmlns=\"http://www.w3.org/2000/svg\" height=\"24px\"viewBox=\"0 0 24 24\"\n",
              "       width=\"24px\">\n",
              "    <path d=\"M0 0h24v24H0V0z\" fill=\"none\"/>\n",
              "    <path d=\"M18.56 5.44l.94 2.06.94-2.06 2.06-.94-2.06-.94-.94-2.06-.94 2.06-2.06.94zm-11 1L8.5 8.5l.94-2.06 2.06-.94-2.06-.94L8.5 2.5l-.94 2.06-2.06.94zm10 10l.94 2.06.94-2.06 2.06-.94-2.06-.94-.94-2.06-.94 2.06-2.06.94z\"/><path d=\"M17.41 7.96l-1.37-1.37c-.4-.4-.92-.59-1.43-.59-.52 0-1.04.2-1.43.59L10.3 9.45l-7.72 7.72c-.78.78-.78 2.05 0 2.83L4 21.41c.39.39.9.59 1.41.59.51 0 1.02-.2 1.41-.59l7.78-7.78 2.81-2.81c.8-.78.8-2.07 0-2.86zM5.41 20L4 18.59l7.72-7.72 1.47 1.35L5.41 20z\"/>\n",
              "  </svg>\n",
              "      </button>\n",
              "      \n",
              "  <style>\n",
              "    .colab-df-container {\n",
              "      display:flex;\n",
              "      flex-wrap:wrap;\n",
              "      gap: 12px;\n",
              "    }\n",
              "\n",
              "    .colab-df-convert {\n",
              "      background-color: #E8F0FE;\n",
              "      border: none;\n",
              "      border-radius: 50%;\n",
              "      cursor: pointer;\n",
              "      display: none;\n",
              "      fill: #1967D2;\n",
              "      height: 32px;\n",
              "      padding: 0 0 0 0;\n",
              "      width: 32px;\n",
              "    }\n",
              "\n",
              "    .colab-df-convert:hover {\n",
              "      background-color: #E2EBFA;\n",
              "      box-shadow: 0px 1px 2px rgba(60, 64, 67, 0.3), 0px 1px 3px 1px rgba(60, 64, 67, 0.15);\n",
              "      fill: #174EA6;\n",
              "    }\n",
              "\n",
              "    [theme=dark] .colab-df-convert {\n",
              "      background-color: #3B4455;\n",
              "      fill: #D2E3FC;\n",
              "    }\n",
              "\n",
              "    [theme=dark] .colab-df-convert:hover {\n",
              "      background-color: #434B5C;\n",
              "      box-shadow: 0px 1px 3px 1px rgba(0, 0, 0, 0.15);\n",
              "      filter: drop-shadow(0px 1px 2px rgba(0, 0, 0, 0.3));\n",
              "      fill: #FFFFFF;\n",
              "    }\n",
              "  </style>\n",
              "\n",
              "      <script>\n",
              "        const buttonEl =\n",
              "          document.querySelector('#df-e6f492ee-790f-4469-b086-7aeec05021f2 button.colab-df-convert');\n",
              "        buttonEl.style.display =\n",
              "          google.colab.kernel.accessAllowed ? 'block' : 'none';\n",
              "\n",
              "        async function convertToInteractive(key) {\n",
              "          const element = document.querySelector('#df-e6f492ee-790f-4469-b086-7aeec05021f2');\n",
              "          const dataTable =\n",
              "            await google.colab.kernel.invokeFunction('convertToInteractive',\n",
              "                                                     [key], {});\n",
              "          if (!dataTable) return;\n",
              "\n",
              "          const docLinkHtml = 'Like what you see? Visit the ' +\n",
              "            '<a target=\"_blank\" href=https://colab.research.google.com/notebooks/data_table.ipynb>data table notebook</a>'\n",
              "            + ' to learn more about interactive tables.';\n",
              "          element.innerHTML = '';\n",
              "          dataTable['output_type'] = 'display_data';\n",
              "          await google.colab.output.renderOutput(dataTable, element);\n",
              "          const docLink = document.createElement('div');\n",
              "          docLink.innerHTML = docLinkHtml;\n",
              "          element.appendChild(docLink);\n",
              "        }\n",
              "      </script>\n",
              "    </div>\n",
              "  </div>\n",
              "  "
            ]
          },
          "metadata": {},
          "execution_count": 5
        }
      ]
    },
    {
      "cell_type": "code",
      "source": [
        "df.reset_index(inplace=True)"
      ],
      "metadata": {
        "id": "rPexcV1ciDw3"
      },
      "execution_count": 6,
      "outputs": []
    },
    {
      "cell_type": "code",
      "source": [
        "df.head()"
      ],
      "metadata": {
        "colab": {
          "base_uri": "https://localhost:8080/",
          "height": 206
        },
        "id": "sEiIUMStiHWV",
        "outputId": "ee0879b6-8400-4529-fb4c-42618b93501c"
      },
      "execution_count": 8,
      "outputs": [
        {
          "output_type": "execute_result",
          "data": {
            "text/plain": [
              "   index       Date   Open    High     Low    Last   Close  \\\n",
              "0   2034 2010-07-21  122.1  123.00  121.05  121.10  121.55   \n",
              "1   2033 2010-07-22  120.3  122.00  120.25  120.75  120.90   \n",
              "2   2032 2010-07-23  121.8  121.95  120.25  120.35  120.65   \n",
              "3   2031 2010-07-26  120.1  121.00  117.10  117.10  117.60   \n",
              "4   2030 2010-07-27  117.6  119.50  112.00  118.80  118.65   \n",
              "\n",
              "   Total Trade Quantity  Turnover (Lacs)  \n",
              "0                658666           803.56  \n",
              "1                293312           355.17  \n",
              "2                281312           340.31  \n",
              "3                658440           780.01  \n",
              "4                586100           694.98  "
            ],
            "text/html": [
              "\n",
              "  <div id=\"df-9c5ad5db-3911-4181-9c23-4cf1bc072d77\">\n",
              "    <div class=\"colab-df-container\">\n",
              "      <div>\n",
              "<style scoped>\n",
              "    .dataframe tbody tr th:only-of-type {\n",
              "        vertical-align: middle;\n",
              "    }\n",
              "\n",
              "    .dataframe tbody tr th {\n",
              "        vertical-align: top;\n",
              "    }\n",
              "\n",
              "    .dataframe thead th {\n",
              "        text-align: right;\n",
              "    }\n",
              "</style>\n",
              "<table border=\"1\" class=\"dataframe\">\n",
              "  <thead>\n",
              "    <tr style=\"text-align: right;\">\n",
              "      <th></th>\n",
              "      <th>index</th>\n",
              "      <th>Date</th>\n",
              "      <th>Open</th>\n",
              "      <th>High</th>\n",
              "      <th>Low</th>\n",
              "      <th>Last</th>\n",
              "      <th>Close</th>\n",
              "      <th>Total Trade Quantity</th>\n",
              "      <th>Turnover (Lacs)</th>\n",
              "    </tr>\n",
              "  </thead>\n",
              "  <tbody>\n",
              "    <tr>\n",
              "      <th>0</th>\n",
              "      <td>2034</td>\n",
              "      <td>2010-07-21</td>\n",
              "      <td>122.1</td>\n",
              "      <td>123.00</td>\n",
              "      <td>121.05</td>\n",
              "      <td>121.10</td>\n",
              "      <td>121.55</td>\n",
              "      <td>658666</td>\n",
              "      <td>803.56</td>\n",
              "    </tr>\n",
              "    <tr>\n",
              "      <th>1</th>\n",
              "      <td>2033</td>\n",
              "      <td>2010-07-22</td>\n",
              "      <td>120.3</td>\n",
              "      <td>122.00</td>\n",
              "      <td>120.25</td>\n",
              "      <td>120.75</td>\n",
              "      <td>120.90</td>\n",
              "      <td>293312</td>\n",
              "      <td>355.17</td>\n",
              "    </tr>\n",
              "    <tr>\n",
              "      <th>2</th>\n",
              "      <td>2032</td>\n",
              "      <td>2010-07-23</td>\n",
              "      <td>121.8</td>\n",
              "      <td>121.95</td>\n",
              "      <td>120.25</td>\n",
              "      <td>120.35</td>\n",
              "      <td>120.65</td>\n",
              "      <td>281312</td>\n",
              "      <td>340.31</td>\n",
              "    </tr>\n",
              "    <tr>\n",
              "      <th>3</th>\n",
              "      <td>2031</td>\n",
              "      <td>2010-07-26</td>\n",
              "      <td>120.1</td>\n",
              "      <td>121.00</td>\n",
              "      <td>117.10</td>\n",
              "      <td>117.10</td>\n",
              "      <td>117.60</td>\n",
              "      <td>658440</td>\n",
              "      <td>780.01</td>\n",
              "    </tr>\n",
              "    <tr>\n",
              "      <th>4</th>\n",
              "      <td>2030</td>\n",
              "      <td>2010-07-27</td>\n",
              "      <td>117.6</td>\n",
              "      <td>119.50</td>\n",
              "      <td>112.00</td>\n",
              "      <td>118.80</td>\n",
              "      <td>118.65</td>\n",
              "      <td>586100</td>\n",
              "      <td>694.98</td>\n",
              "    </tr>\n",
              "  </tbody>\n",
              "</table>\n",
              "</div>\n",
              "      <button class=\"colab-df-convert\" onclick=\"convertToInteractive('df-9c5ad5db-3911-4181-9c23-4cf1bc072d77')\"\n",
              "              title=\"Convert this dataframe to an interactive table.\"\n",
              "              style=\"display:none;\">\n",
              "        \n",
              "  <svg xmlns=\"http://www.w3.org/2000/svg\" height=\"24px\"viewBox=\"0 0 24 24\"\n",
              "       width=\"24px\">\n",
              "    <path d=\"M0 0h24v24H0V0z\" fill=\"none\"/>\n",
              "    <path d=\"M18.56 5.44l.94 2.06.94-2.06 2.06-.94-2.06-.94-.94-2.06-.94 2.06-2.06.94zm-11 1L8.5 8.5l.94-2.06 2.06-.94-2.06-.94L8.5 2.5l-.94 2.06-2.06.94zm10 10l.94 2.06.94-2.06 2.06-.94-2.06-.94-.94-2.06-.94 2.06-2.06.94z\"/><path d=\"M17.41 7.96l-1.37-1.37c-.4-.4-.92-.59-1.43-.59-.52 0-1.04.2-1.43.59L10.3 9.45l-7.72 7.72c-.78.78-.78 2.05 0 2.83L4 21.41c.39.39.9.59 1.41.59.51 0 1.02-.2 1.41-.59l7.78-7.78 2.81-2.81c.8-.78.8-2.07 0-2.86zM5.41 20L4 18.59l7.72-7.72 1.47 1.35L5.41 20z\"/>\n",
              "  </svg>\n",
              "      </button>\n",
              "      \n",
              "  <style>\n",
              "    .colab-df-container {\n",
              "      display:flex;\n",
              "      flex-wrap:wrap;\n",
              "      gap: 12px;\n",
              "    }\n",
              "\n",
              "    .colab-df-convert {\n",
              "      background-color: #E8F0FE;\n",
              "      border: none;\n",
              "      border-radius: 50%;\n",
              "      cursor: pointer;\n",
              "      display: none;\n",
              "      fill: #1967D2;\n",
              "      height: 32px;\n",
              "      padding: 0 0 0 0;\n",
              "      width: 32px;\n",
              "    }\n",
              "\n",
              "    .colab-df-convert:hover {\n",
              "      background-color: #E2EBFA;\n",
              "      box-shadow: 0px 1px 2px rgba(60, 64, 67, 0.3), 0px 1px 3px 1px rgba(60, 64, 67, 0.15);\n",
              "      fill: #174EA6;\n",
              "    }\n",
              "\n",
              "    [theme=dark] .colab-df-convert {\n",
              "      background-color: #3B4455;\n",
              "      fill: #D2E3FC;\n",
              "    }\n",
              "\n",
              "    [theme=dark] .colab-df-convert:hover {\n",
              "      background-color: #434B5C;\n",
              "      box-shadow: 0px 1px 3px 1px rgba(0, 0, 0, 0.15);\n",
              "      filter: drop-shadow(0px 1px 2px rgba(0, 0, 0, 0.3));\n",
              "      fill: #FFFFFF;\n",
              "    }\n",
              "  </style>\n",
              "\n",
              "      <script>\n",
              "        const buttonEl =\n",
              "          document.querySelector('#df-9c5ad5db-3911-4181-9c23-4cf1bc072d77 button.colab-df-convert');\n",
              "        buttonEl.style.display =\n",
              "          google.colab.kernel.accessAllowed ? 'block' : 'none';\n",
              "\n",
              "        async function convertToInteractive(key) {\n",
              "          const element = document.querySelector('#df-9c5ad5db-3911-4181-9c23-4cf1bc072d77');\n",
              "          const dataTable =\n",
              "            await google.colab.kernel.invokeFunction('convertToInteractive',\n",
              "                                                     [key], {});\n",
              "          if (!dataTable) return;\n",
              "\n",
              "          const docLinkHtml = 'Like what you see? Visit the ' +\n",
              "            '<a target=\"_blank\" href=https://colab.research.google.com/notebooks/data_table.ipynb>data table notebook</a>'\n",
              "            + ' to learn more about interactive tables.';\n",
              "          element.innerHTML = '';\n",
              "          dataTable['output_type'] = 'display_data';\n",
              "          await google.colab.output.renderOutput(dataTable, element);\n",
              "          const docLink = document.createElement('div');\n",
              "          docLink.innerHTML = docLinkHtml;\n",
              "          element.appendChild(docLink);\n",
              "        }\n",
              "      </script>\n",
              "    </div>\n",
              "  </div>\n",
              "  "
            ]
          },
          "metadata": {},
          "execution_count": 8
        }
      ]
    },
    {
      "cell_type": "markdown",
      "source": [
        "**Visualization**"
      ],
      "metadata": {
        "id": "rs5pWw4elFFH"
      }
    },
    {
      "cell_type": "code",
      "source": [
        "plt.plot(df['Close'])\n"
      ],
      "metadata": {
        "colab": {
          "base_uri": "https://localhost:8080/",
          "height": 448
        },
        "id": "I7jIdX9iiL5v",
        "outputId": "4fe5f563-78f4-4fcf-aef3-a2c321bcd92d"
      },
      "execution_count": 9,
      "outputs": [
        {
          "output_type": "execute_result",
          "data": {
            "text/plain": [
              "[<matplotlib.lines.Line2D at 0x7f437cad4b80>]"
            ]
          },
          "metadata": {},
          "execution_count": 9
        },
        {
          "output_type": "display_data",
          "data": {
            "text/plain": [
              "<Figure size 640x480 with 1 Axes>"
            ],
            "image/png": "[encoded data removed]"
          },
          "metadata": {}
        }
      ]
    },
    {
      "cell_type": "code",
      "source": [
        "dff=df['Close']\n",
        "dff"
      ],
      "metadata": {
        "colab": {
          "base_uri": "https://localhost:8080/"
        },
        "id": "w0FKo9M6iRZI",
        "outputId": "c805f335-4c03-46a2-f287-31da8055686c"
      },
      "execution_count": 10,
      "outputs": [
        {
          "output_type": "execute_result",
          "data": {
            "text/plain": [
              "0       121.55\n",
              "1       120.90\n",
              "2       120.65\n",
              "3       117.60\n",
              "4       118.65\n",
              "         ...  \n",
              "2030    233.30\n",
              "2031    236.10\n",
              "2032    234.25\n",
              "2033    233.25\n",
              "2034    233.75\n",
              "Name: Close, Length: 2035, dtype: float64"
            ]
          },
          "metadata": {},
          "execution_count": 10
        }
      ]
    },
    {
      "cell_type": "markdown",
      "source": [
        "**Min Max Scaler**"
      ],
      "metadata": {
        "id": "2ohslCeGlH2z"
      }
    },
    {
      "cell_type": "code",
      "source": [
        "scaler=MinMaxScaler(feature_range=(0,1))\n",
        "dff=scaler.fit_transform(np.array(dff).reshape(-1,1))\n",
        "dff"
      ],
      "metadata": {
        "colab": {
          "base_uri": "https://localhost:8080/"
        },
        "id": "VMQrkiaYiYrR",
        "outputId": "6d349f91-61c7-49cf-c7c8-fc9338869517"
      },
      "execution_count": 11,
      "outputs": [
        {
          "output_type": "execute_result",
          "data": {
            "text/plain": [
              "array([[0.16584967],\n",
              "       [0.16319444],\n",
              "       [0.1621732 ],\n",
              "       ...,\n",
              "       [0.62622549],\n",
              "       [0.62214052],\n",
              "       [0.62418301]])"
            ]
          },
          "metadata": {},
          "execution_count": 11
        }
      ]
    },
    {
      "cell_type": "markdown",
      "source": [
        "**Spliting the Dataset**"
      ],
      "metadata": {
        "id": "6kX0tnAxlK1N"
      }
    },
    {
      "cell_type": "code",
      "source": [
        "training_size=int(len(dff)*0.70)\n",
        "test_size=len(dff)-training_size\n",
        "train_data,test_data=dff[0:training_size,:],dff[training_size:len(dff),:1]"
      ],
      "metadata": {
        "id": "n6Qr51vHidMN"
      },
      "execution_count": 12,
      "outputs": []
    },
    {
      "cell_type": "markdown",
      "source": [
        "**convert an array of values into a dataset matrix**"
      ],
      "metadata": {
        "id": "lJoDb0sIlNJR"
      }
    },
    {
      "cell_type": "code",
      "source": [
        "def create_dataset(dataset, time_step=1):\n",
        "\tdataX, dataY = [], []\n",
        "\tfor i in range(len(dataset)-time_step-1):\n",
        "\t\ta = dataset[i:(i+time_step), 0]   \n",
        "\t\tdataX.append(a)\n",
        "\t\tdataY.append(dataset[i + time_step, 0])\n",
        "\treturn np.array(dataX), np.array(dataY)"
      ],
      "metadata": {
        "id": "3Q97T17NiiHY"
      },
      "execution_count": 13,
      "outputs": []
    },
    {
      "cell_type": "markdown",
      "source": [
        "**Spliting Data into Train and Test**"
      ],
      "metadata": {
        "id": "UldevfbSlP0i"
      }
    },
    {
      "cell_type": "code",
      "source": [
        "time_step = 100\n",
        "X_train, y_train = create_dataset(train_data, time_step)\n",
        "X_test, ytest = create_dataset(test_data, time_step)"
      ],
      "metadata": {
        "id": "J-L35PDtimbD"
      },
      "execution_count": 14,
      "outputs": []
    },
    {
      "cell_type": "code",
      "source": [
        "print(X_train.shape), print(y_train.shape)\n"
      ],
      "metadata": {
        "colab": {
          "base_uri": "https://localhost:8080/"
        },
        "id": "Evs6Qa8xiqrz",
        "outputId": "67cdd423-2d87-49db-afb2-776964414a94"
      },
      "execution_count": 15,
      "outputs": [
        {
          "output_type": "stream",
          "name": "stdout",
          "text": [
            "(1323, 100)\n",
            "(1323,)\n"
          ]
        },
        {
          "output_type": "execute_result",
          "data": {
            "text/plain": [
              "(None, None)"
            ]
          },
          "metadata": {},
          "execution_count": 15
        }
      ]
    },
    {
      "cell_type": "code",
      "source": [
        "print(X_test.shape), print(ytest.shape)\n"
      ],
      "metadata": {
        "colab": {
          "base_uri": "https://localhost:8080/"
        },
        "id": "hpS3eJ6NjCPV",
        "outputId": "116f3a67-40f9-40d1-ac87-7e31e58a3ff2"
      },
      "execution_count": 16,
      "outputs": [
        {
          "output_type": "stream",
          "name": "stdout",
          "text": [
            "(510, 100)\n",
            "(510,)\n"
          ]
        },
        {
          "output_type": "execute_result",
          "data": {
            "text/plain": [
              "(None, None)"
            ]
          },
          "metadata": {},
          "execution_count": 16
        }
      ]
    },
    {
      "cell_type": "code",
      "source": [
        "X_train =X_train.reshape(X_train.shape[0],X_train.shape[1] , 1)\n",
        "X_test = X_test.reshape(X_test.shape[0],X_test.shape[1] , 1)"
      ],
      "metadata": {
        "id": "PUEETACsjFuu"
      },
      "execution_count": 17,
      "outputs": []
    },
    {
      "cell_type": "markdown",
      "source": [
        "**Creating the LSTM Model**"
      ],
      "metadata": {
        "id": "jkGvzRBllUFy"
      }
    },
    {
      "cell_type": "code",
      "source": [
        "model=Sequential()\n",
        "model.add(LSTM(50,return_sequences=True,input_shape=(100,1)))\n",
        "model.add(LSTM(50,return_sequences=True))\n",
        "model.add(LSTM(50))\n",
        "model.add(Dense(1))\n",
        "model.compile(loss='mean_squared_error',optimizer='adam')\n",
        "model.summary()"
      ],
      "metadata": {
        "colab": {
          "base_uri": "https://localhost:8080/"
        },
        "id": "V3LTKrfkjNyF",
        "outputId": "7d6fd76e-d173-42e5-b28d-86d7e7f26f85"
      },
      "execution_count": 18,
      "outputs": [
        {
          "output_type": "stream",
          "name": "stdout",
          "text": [
            "Model: \"sequential\"\n",
            "_________________________________________________________________\n",
            " Layer (type)                Output Shape              Param #   \n",
            "=================================================================\n",
            " lstm (LSTM)                 (None, 100, 50)           10400     \n",
            "                                                                 \n",
            " lstm_1 (LSTM)               (None, 100, 50)           20200     \n",
            "                                                                 \n",
            " lstm_2 (LSTM)               (None, 50)                20200     \n",
            "                                                                 \n",
            " dense (Dense)               (None, 1)                 51        \n",
            "                                                                 \n",
            "=================================================================\n",
            "Total params: 50,851\n",
            "Trainable params: 50,851\n",
            "Non-trainable params: 0\n",
            "_________________________________________________________________\n"
          ]
        }
      ]
    },
    {
      "cell_type": "code",
      "source": [
        "model.fit(X_train,y_train,validation_split=0.1,epochs=60,batch_size=64,verbose=1)\n"
      ],
      "metadata": {
        "colab": {
          "base_uri": "https://localhost:8080/"
        },
        "id": "R4wPZwTGjOD3",
        "outputId": "e754b9bd-4f14-4b9d-afac-31154275d4b0"
      },
      "execution_count": 19,
      "outputs": [
        {
          "output_type": "stream",
          "name": "stdout",
          "text": [
            "Epoch 1/60\n",
            "19/19 [==============================] - 12s 248ms/step - loss: 0.0108 - val_loss: 0.0013\n",
            "Epoch 2/60\n",
            "19/19 [==============================] - 4s 191ms/step - loss: 0.0020 - val_loss: 0.0014\n",
            "Epoch 3/60\n",
            "19/19 [==============================] - 4s 218ms/step - loss: 9.8972e-04 - val_loss: 0.0012\n",
            "Epoch 4/60\n",
            "19/19 [==============================] - 3s 176ms/step - loss: 8.9764e-04 - val_loss: 0.0011\n",
            "Epoch 5/60\n",
            "19/19 [==============================] - 3s 174ms/step - loss: 8.6561e-04 - val_loss: 0.0011\n",
            "Epoch 6/60\n",
            "19/19 [==============================] - 5s 265ms/step - loss: 7.9539e-04 - val_loss: 0.0010\n",
            "Epoch 7/60\n",
            "19/19 [==============================] - 4s 224ms/step - loss: 7.6632e-04 - val_loss: 0.0010\n",
            "Epoch 8/60\n",
            "19/19 [==============================] - 3s 174ms/step - loss: 7.4789e-04 - val_loss: 9.5502e-04\n",
            "Epoch 9/60\n",
            "19/19 [==============================] - 5s 242ms/step - loss: 7.2972e-04 - val_loss: 9.0232e-04\n",
            "Epoch 10/60\n",
            "19/19 [==============================] - 3s 179ms/step - loss: 6.9888e-04 - val_loss: 9.0697e-04\n",
            "Epoch 11/60\n",
            "19/19 [==============================] - 3s 177ms/step - loss: 6.7977e-04 - val_loss: 8.3657e-04\n",
            "Epoch 12/60\n",
            "19/19 [==============================] - 4s 188ms/step - loss: 6.7968e-04 - val_loss: 8.4598e-04\n",
            "Epoch 13/60\n",
            "19/19 [==============================] - 4s 224ms/step - loss: 6.4302e-04 - val_loss: 7.8777e-04\n",
            "Epoch 14/60\n",
            "19/19 [==============================] - 3s 176ms/step - loss: 6.2553e-04 - val_loss: 7.4329e-04\n",
            "Epoch 15/60\n",
            "19/19 [==============================] - 3s 176ms/step - loss: 6.3675e-04 - val_loss: 7.0771e-04\n",
            "Epoch 16/60\n",
            "19/19 [==============================] - 5s 248ms/step - loss: 6.1348e-04 - val_loss: 7.1094e-04\n",
            "Epoch 17/60\n",
            "19/19 [==============================] - 3s 176ms/step - loss: 5.7807e-04 - val_loss: 6.6495e-04\n",
            "Epoch 18/60\n",
            "19/19 [==============================] - 3s 178ms/step - loss: 5.7267e-04 - val_loss: 6.3311e-04\n",
            "Epoch 19/60\n",
            "19/19 [==============================] - 4s 210ms/step - loss: 5.5416e-04 - val_loss: 6.5671e-04\n",
            "Epoch 20/60\n",
            "19/19 [==============================] - 4s 207ms/step - loss: 5.4859e-04 - val_loss: 8.0412e-04\n",
            "Epoch 21/60\n",
            "19/19 [==============================] - 3s 176ms/step - loss: 5.8853e-04 - val_loss: 5.8988e-04\n",
            "Epoch 22/60\n",
            "19/19 [==============================] - 3s 182ms/step - loss: 5.1875e-04 - val_loss: 5.7191e-04\n",
            "Epoch 23/60\n",
            "19/19 [==============================] - 4s 240ms/step - loss: 5.0161e-04 - val_loss: 5.3494e-04\n",
            "Epoch 24/60\n",
            "19/19 [==============================] - 3s 177ms/step - loss: 5.1678e-04 - val_loss: 6.1476e-04\n",
            "Epoch 25/60\n",
            "19/19 [==============================] - 3s 179ms/step - loss: 4.8168e-04 - val_loss: 5.7870e-04\n",
            "Epoch 26/60\n",
            "19/19 [==============================] - 4s 216ms/step - loss: 4.9368e-04 - val_loss: 5.1637e-04\n",
            "Epoch 27/60\n",
            "19/19 [==============================] - 4s 196ms/step - loss: 5.0896e-04 - val_loss: 4.8956e-04\n",
            "Epoch 28/60\n",
            "19/19 [==============================] - 3s 180ms/step - loss: 4.6238e-04 - val_loss: 5.2100e-04\n",
            "Epoch 29/60\n",
            "19/19 [==============================] - 3s 176ms/step - loss: 4.3420e-04 - val_loss: 4.5909e-04\n",
            "Epoch 30/60\n",
            "19/19 [==============================] - 5s 243ms/step - loss: 4.3913e-04 - val_loss: 5.0224e-04\n",
            "Epoch 31/60\n",
            "19/19 [==============================] - 3s 177ms/step - loss: 4.1855e-04 - val_loss: 4.3270e-04\n",
            "Epoch 32/60\n",
            "19/19 [==============================] - 3s 179ms/step - loss: 4.1821e-04 - val_loss: 4.9285e-04\n",
            "Epoch 33/60\n",
            "19/19 [==============================] - 4s 232ms/step - loss: 4.2365e-04 - val_loss: 4.0668e-04\n",
            "Epoch 34/60\n",
            "19/19 [==============================] - 4s 188ms/step - loss: 4.0921e-04 - val_loss: 3.8443e-04\n",
            "Epoch 35/60\n",
            "19/19 [==============================] - 3s 178ms/step - loss: 3.7586e-04 - val_loss: 4.1493e-04\n",
            "Epoch 36/60\n",
            "19/19 [==============================] - 3s 178ms/step - loss: 3.6417e-04 - val_loss: 3.5477e-04\n",
            "Epoch 37/60\n",
            "19/19 [==============================] - 5s 241ms/step - loss: 3.5578e-04 - val_loss: 3.6204e-04\n",
            "Epoch 38/60\n",
            "19/19 [==============================] - 3s 182ms/step - loss: 3.4421e-04 - val_loss: 3.5847e-04\n",
            "Epoch 39/60\n",
            "19/19 [==============================] - 3s 175ms/step - loss: 3.4570e-04 - val_loss: 3.0841e-04\n",
            "Epoch 40/60\n",
            "19/19 [==============================] - 4s 240ms/step - loss: 3.4179e-04 - val_loss: 3.1735e-04\n",
            "Epoch 41/60\n",
            "19/19 [==============================] - 3s 177ms/step - loss: 3.0850e-04 - val_loss: 2.8479e-04\n",
            "Epoch 42/60\n",
            "19/19 [==============================] - 3s 178ms/step - loss: 3.2190e-04 - val_loss: 3.2088e-04\n",
            "Epoch 43/60\n",
            "19/19 [==============================] - 4s 197ms/step - loss: 3.4082e-04 - val_loss: 2.8882e-04\n",
            "Epoch 44/60\n",
            "19/19 [==============================] - 4s 220ms/step - loss: 3.5161e-04 - val_loss: 2.8131e-04\n",
            "Epoch 45/60\n",
            "19/19 [==============================] - 3s 178ms/step - loss: 2.8681e-04 - val_loss: 2.6043e-04\n",
            "Epoch 46/60\n",
            "19/19 [==============================] - 3s 176ms/step - loss: 2.7939e-04 - val_loss: 2.4722e-04\n",
            "Epoch 47/60\n",
            "19/19 [==============================] - 5s 244ms/step - loss: 2.6504e-04 - val_loss: 2.5564e-04\n",
            "Epoch 48/60\n",
            "19/19 [==============================] - 3s 182ms/step - loss: 2.7636e-04 - val_loss: 2.3359e-04\n",
            "Epoch 49/60\n",
            "19/19 [==============================] - 3s 178ms/step - loss: 2.6828e-04 - val_loss: 2.3620e-04\n",
            "Epoch 50/60\n",
            "19/19 [==============================] - 4s 210ms/step - loss: 2.6820e-04 - val_loss: 2.1990e-04\n",
            "Epoch 51/60\n",
            "19/19 [==============================] - 4s 205ms/step - loss: 2.6074e-04 - val_loss: 2.1711e-04\n",
            "Epoch 52/60\n",
            "19/19 [==============================] - 3s 179ms/step - loss: 2.4741e-04 - val_loss: 2.0418e-04\n",
            "Epoch 53/60\n",
            "19/19 [==============================] - 3s 179ms/step - loss: 2.6735e-04 - val_loss: 2.1050e-04\n",
            "Epoch 54/60\n",
            "19/19 [==============================] - 5s 245ms/step - loss: 2.5056e-04 - val_loss: 2.2282e-04\n",
            "Epoch 55/60\n",
            "19/19 [==============================] - 3s 178ms/step - loss: 2.6929e-04 - val_loss: 2.3004e-04\n",
            "Epoch 56/60\n",
            "19/19 [==============================] - 3s 177ms/step - loss: 2.4750e-04 - val_loss: 2.4170e-04\n",
            "Epoch 57/60\n",
            "19/19 [==============================] - 4s 222ms/step - loss: 2.1526e-04 - val_loss: 1.8319e-04\n",
            "Epoch 58/60\n",
            "19/19 [==============================] - 4s 189ms/step - loss: 2.0459e-04 - val_loss: 2.1536e-04\n",
            "Epoch 59/60\n",
            "19/19 [==============================] - 3s 175ms/step - loss: 2.2377e-04 - val_loss: 3.8636e-04\n",
            "Epoch 60/60\n",
            "19/19 [==============================] - 3s 176ms/step - loss: 2.6794e-04 - val_loss: 2.8920e-04\n"
          ]
        },
        {
          "output_type": "execute_result",
          "data": {
            "text/plain": [
              "<keras.callbacks.History at 0x7f43736ae710>"
            ]
          },
          "metadata": {},
          "execution_count": 19
        }
      ]
    },
    {
      "cell_type": "markdown",
      "source": [
        "**Prediction**"
      ],
      "metadata": {
        "id": "-ycT5aQSlazu"
      }
    },
    {
      "cell_type": "code",
      "source": [
        "test_predict=model.predict(X_test)"
      ],
      "metadata": {
        "id": "fsonl8-LjUaN",
        "colab": {
          "base_uri": "https://localhost:8080/"
        },
        "outputId": "67090ca0-3a1f-43d6-b8d0-dae6d5d8ff28"
      },
      "execution_count": 20,
      "outputs": [
        {
          "output_type": "stream",
          "name": "stdout",
          "text": [
            "16/16 [==============================] - 2s 39ms/step\n"
          ]
        }
      ]
    },
    {
      "cell_type": "code",
      "source": [
        "test_predicted=scaler.inverse_transform(test_predict)\n",
        "test_predicted"
      ],
      "metadata": {
        "colab": {
          "base_uri": "https://localhost:8080/"
        },
        "id": "276dx_uyjUn4",
        "outputId": "793d872a-8004-4bdc-e001-91b60389e71b"
      },
      "execution_count": 21,
      "outputs": [
        {
          "output_type": "execute_result",
          "data": {
            "text/plain": [
              "array([[144.62056 ],\n",
              "       [144.83107 ],\n",
              "       [143.98131 ],\n",
              "       [141.41    ],\n",
              "       [139.72382 ],\n",
              "       [139.08583 ],\n",
              "       [140.14516 ],\n",
              "       [141.68974 ],\n",
              "       [142.17719 ],\n",
              "       [141.90787 ],\n",
              "       [141.67677 ],\n",
              "       [142.75952 ],\n",
              "       [143.50182 ],\n",
              "       [145.0266  ],\n",
              "       [147.18967 ],\n",
              "       [145.35684 ],\n",
              "       [143.02872 ],\n",
              "       [142.53645 ],\n",
              "       [143.03601 ],\n",
              "       [147.86559 ],\n",
              "       [152.32423 ],\n",
              "       [154.69273 ],\n",
              "       [155.19281 ],\n",
              "       [153.18596 ],\n",
              "       [152.82341 ],\n",
              "       [152.45995 ],\n",
              "       [152.80492 ],\n",
              "       [154.48875 ],\n",
              "       [155.3321  ],\n",
              "       [155.4517  ],\n",
              "       [155.86665 ],\n",
              "       [154.7404  ],\n",
              "       [151.55669 ],\n",
              "       [145.97444 ],\n",
              "       [142.45238 ],\n",
              "       [141.2929  ],\n",
              "       [141.40538 ],\n",
              "       [140.75775 ],\n",
              "       [138.68327 ],\n",
              "       [135.19719 ],\n",
              "       [132.64014 ],\n",
              "       [131.27666 ],\n",
              "       [129.15317 ],\n",
              "       [128.22345 ],\n",
              "       [126.22501 ],\n",
              "       [123.67551 ],\n",
              "       [122.82266 ],\n",
              "       [122.37787 ],\n",
              "       [122.49284 ],\n",
              "       [121.57102 ],\n",
              "       [120.6747  ],\n",
              "       [120.175095],\n",
              "       [119.32203 ],\n",
              "       [119.31985 ],\n",
              "       [120.45082 ],\n",
              "       [122.08607 ],\n",
              "       [123.93308 ],\n",
              "       [124.763794],\n",
              "       [124.634514],\n",
              "       [124.66085 ],\n",
              "       [124.79452 ],\n",
              "       [124.6494  ],\n",
              "       [124.834045],\n",
              "       [125.222946],\n",
              "       [125.46291 ],\n",
              "       [125.55821 ],\n",
              "       [125.41465 ],\n",
              "       [125.68804 ],\n",
              "       [126.11022 ],\n",
              "       [126.46338 ],\n",
              "       [125.80656 ],\n",
              "       [124.894196],\n",
              "       [123.60027 ],\n",
              "       [122.36025 ],\n",
              "       [121.05827 ],\n",
              "       [121.04523 ],\n",
              "       [121.52039 ],\n",
              "       [122.41687 ],\n",
              "       [123.47796 ],\n",
              "       [124.68816 ],\n",
              "       [125.836174],\n",
              "       [126.56598 ],\n",
              "       [127.03136 ],\n",
              "       [127.074585],\n",
              "       [126.91677 ],\n",
              "       [126.65675 ],\n",
              "       [127.33913 ],\n",
              "       [127.695076],\n",
              "       [128.62624 ],\n",
              "       [129.44658 ],\n",
              "       [129.90717 ],\n",
              "       [130.35661 ],\n",
              "       [131.25249 ],\n",
              "       [130.90393 ],\n",
              "       [130.39957 ],\n",
              "       [130.2492  ],\n",
              "       [130.34242 ],\n",
              "       [130.78116 ],\n",
              "       [131.64255 ],\n",
              "       [131.96349 ],\n",
              "       [132.23253 ],\n",
              "       [134.75435 ],\n",
              "       [139.08253 ],\n",
              "       [143.0891  ],\n",
              "       [144.97926 ],\n",
              "       [146.58755 ],\n",
              "       [146.8201  ],\n",
              "       [146.2694  ],\n",
              "       [144.94164 ],\n",
              "       [143.56589 ],\n",
              "       [141.97879 ],\n",
              "       [141.4423  ],\n",
              "       [141.78282 ],\n",
              "       [142.97093 ],\n",
              "       [144.1665  ],\n",
              "       [144.33078 ],\n",
              "       [143.62648 ],\n",
              "       [142.65208 ],\n",
              "       [141.62735 ],\n",
              "       [142.8419  ],\n",
              "       [143.9075  ],\n",
              "       [145.1159  ],\n",
              "       [145.9144  ],\n",
              "       [145.99396 ],\n",
              "       [145.20187 ],\n",
              "       [144.08429 ],\n",
              "       [141.99797 ],\n",
              "       [141.05588 ],\n",
              "       [141.6238  ],\n",
              "       [144.04979 ],\n",
              "       [146.52766 ],\n",
              "       [148.57162 ],\n",
              "       [149.38686 ],\n",
              "       [148.22292 ],\n",
              "       [149.61276 ],\n",
              "       [151.73225 ],\n",
              "       [152.25589 ],\n",
              "       [152.45241 ],\n",
              "       [152.55092 ],\n",
              "       [152.43616 ],\n",
              "       [152.45587 ],\n",
              "       [153.11226 ],\n",
              "       [154.15565 ],\n",
              "       [155.12999 ],\n",
              "       [154.7276  ],\n",
              "       [153.9649  ],\n",
              "       [154.37961 ],\n",
              "       [154.59872 ],\n",
              "       [154.08702 ],\n",
              "       [153.05238 ],\n",
              "       [151.74907 ],\n",
              "       [151.67445 ],\n",
              "       [153.02374 ],\n",
              "       [154.15115 ],\n",
              "       [154.87296 ],\n",
              "       [154.9946  ],\n",
              "       [155.55347 ],\n",
              "       [155.44682 ],\n",
              "       [155.38419 ],\n",
              "       [157.20874 ],\n",
              "       [158.60818 ],\n",
              "       [158.7448  ],\n",
              "       [157.01105 ],\n",
              "       [155.3019  ],\n",
              "       [155.02138 ],\n",
              "       [155.91254 ],\n",
              "       [156.64243 ],\n",
              "       [156.43216 ],\n",
              "       [156.6617  ],\n",
              "       [157.00749 ],\n",
              "       [156.58533 ],\n",
              "       [153.8423  ],\n",
              "       [151.94557 ],\n",
              "       [150.72879 ],\n",
              "       [149.1586  ],\n",
              "       [146.91963 ],\n",
              "       [145.79665 ],\n",
              "       [147.1296  ],\n",
              "       [148.5633  ],\n",
              "       [149.35782 ],\n",
              "       [150.8828  ],\n",
              "       [153.27304 ],\n",
              "       [155.95227 ],\n",
              "       [157.57584 ],\n",
              "       [157.11687 ],\n",
              "       [156.80746 ],\n",
              "       [156.42082 ],\n",
              "       [156.08183 ],\n",
              "       [155.06998 ],\n",
              "       [155.95412 ],\n",
              "       [158.35123 ],\n",
              "       [160.72675 ],\n",
              "       [161.66702 ],\n",
              "       [160.76614 ],\n",
              "       [159.6064  ],\n",
              "       [158.88324 ],\n",
              "       [157.86551 ],\n",
              "       [155.71143 ],\n",
              "       [152.52197 ],\n",
              "       [151.01295 ],\n",
              "       [150.81268 ],\n",
              "       [152.12112 ],\n",
              "       [153.97168 ],\n",
              "       [154.63045 ],\n",
              "       [156.71661 ],\n",
              "       [157.52528 ],\n",
              "       [158.90369 ],\n",
              "       [163.55847 ],\n",
              "       [169.00856 ],\n",
              "       [173.99886 ],\n",
              "       [177.04892 ],\n",
              "       [177.03789 ],\n",
              "       [176.83086 ],\n",
              "       [175.22102 ],\n",
              "       [174.45296 ],\n",
              "       [172.90031 ],\n",
              "       [172.36282 ],\n",
              "       [171.84317 ],\n",
              "       [172.30524 ],\n",
              "       [173.66856 ],\n",
              "       [173.08157 ],\n",
              "       [172.22377 ],\n",
              "       [171.91617 ],\n",
              "       [171.02823 ],\n",
              "       [169.14467 ],\n",
              "       [168.41693 ],\n",
              "       [168.51591 ],\n",
              "       [170.70055 ],\n",
              "       [170.76009 ],\n",
              "       [167.92761 ],\n",
              "       [162.53229 ],\n",
              "       [162.14111 ],\n",
              "       [170.86206 ],\n",
              "       [186.98949 ],\n",
              "       [196.7797  ],\n",
              "       [199.56067 ],\n",
              "       [198.18585 ],\n",
              "       [191.98936 ],\n",
              "       [190.35301 ],\n",
              "       [190.59201 ],\n",
              "       [191.15283 ],\n",
              "       [190.433   ],\n",
              "       [193.6254  ],\n",
              "       [197.6604  ],\n",
              "       [199.555   ],\n",
              "       [197.04146 ],\n",
              "       [195.91919 ],\n",
              "       [201.16197 ],\n",
              "       [205.78816 ],\n",
              "       [207.66086 ],\n",
              "       [208.39595 ],\n",
              "       [209.61676 ],\n",
              "       [207.26634 ],\n",
              "       [207.53256 ],\n",
              "       [207.98055 ],\n",
              "       [209.88388 ],\n",
              "       [213.09421 ],\n",
              "       [213.34413 ],\n",
              "       [211.27931 ],\n",
              "       [203.08595 ],\n",
              "       [195.23723 ],\n",
              "       [197.54906 ],\n",
              "       [199.55957 ],\n",
              "       [203.01184 ],\n",
              "       [206.78485 ],\n",
              "       [208.57233 ],\n",
              "       [207.14746 ],\n",
              "       [207.48524 ],\n",
              "       [208.08487 ],\n",
              "       [207.28893 ],\n",
              "       [206.38594 ],\n",
              "       [206.61504 ],\n",
              "       [208.7882  ],\n",
              "       [209.43295 ],\n",
              "       [208.6864  ],\n",
              "       [208.35654 ],\n",
              "       [206.383   ],\n",
              "       [203.73979 ],\n",
              "       [201.8015  ],\n",
              "       [205.39725 ],\n",
              "       [206.63199 ],\n",
              "       [208.68092 ],\n",
              "       [216.16544 ],\n",
              "       [224.62756 ],\n",
              "       [227.30894 ],\n",
              "       [225.5469  ],\n",
              "       [221.64351 ],\n",
              "       [218.4927  ],\n",
              "       [223.77264 ],\n",
              "       [222.90752 ],\n",
              "       [220.13144 ],\n",
              "       [229.32016 ],\n",
              "       [234.26418 ],\n",
              "       [232.4723  ],\n",
              "       [237.23314 ],\n",
              "       [243.47253 ],\n",
              "       [245.5828  ],\n",
              "       [249.27332 ],\n",
              "       [260.42624 ],\n",
              "       [263.6074  ],\n",
              "       [260.82733 ],\n",
              "       [257.98764 ],\n",
              "       [259.90683 ],\n",
              "       [261.19818 ],\n",
              "       [269.0472  ],\n",
              "       [267.49338 ],\n",
              "       [268.89563 ],\n",
              "       [267.47708 ],\n",
              "       [262.7189  ],\n",
              "       [261.74847 ],\n",
              "       [259.65704 ],\n",
              "       [266.1869  ],\n",
              "       [273.81946 ],\n",
              "       [282.26608 ],\n",
              "       [274.91858 ],\n",
              "       [264.85193 ],\n",
              "       [262.16525 ],\n",
              "       [266.56277 ],\n",
              "       [273.37344 ],\n",
              "       [282.9283  ],\n",
              "       [284.89752 ],\n",
              "       [280.94174 ],\n",
              "       [279.39963 ],\n",
              "       [281.77332 ],\n",
              "       [282.82898 ],\n",
              "       [283.43085 ],\n",
              "       [290.9153  ],\n",
              "       [291.05637 ],\n",
              "       [286.93045 ],\n",
              "       [285.05182 ],\n",
              "       [286.4593  ],\n",
              "       [288.47443 ],\n",
              "       [292.69208 ],\n",
              "       [291.95923 ],\n",
              "       [289.1093  ],\n",
              "       [287.4198  ],\n",
              "       [297.17236 ],\n",
              "       [299.27396 ],\n",
              "       [291.45114 ],\n",
              "       [285.36633 ],\n",
              "       [279.4382  ],\n",
              "       [282.27078 ],\n",
              "       [286.85126 ],\n",
              "       [287.19287 ],\n",
              "       [283.69196 ],\n",
              "       [281.90964 ],\n",
              "       [280.17575 ],\n",
              "       [281.7106  ],\n",
              "       [272.73413 ],\n",
              "       [267.09875 ],\n",
              "       [258.05356 ],\n",
              "       [255.7466  ],\n",
              "       [254.30644 ],\n",
              "       [265.57578 ],\n",
              "       [272.1243  ],\n",
              "       [269.02274 ],\n",
              "       [269.1634  ],\n",
              "       [266.56857 ],\n",
              "       [262.12424 ],\n",
              "       [258.17957 ],\n",
              "       [252.5458  ],\n",
              "       [248.2956  ],\n",
              "       [252.08525 ],\n",
              "       [253.28278 ],\n",
              "       [259.3215  ],\n",
              "       [264.06238 ],\n",
              "       [264.64297 ],\n",
              "       [262.5507  ],\n",
              "       [259.78537 ],\n",
              "       [259.11172 ],\n",
              "       [258.5722  ],\n",
              "       [254.97542 ],\n",
              "       [257.1801  ],\n",
              "       [256.4383  ],\n",
              "       [261.2435  ],\n",
              "       [265.7167  ],\n",
              "       [266.13522 ],\n",
              "       [265.00363 ],\n",
              "       [258.37122 ],\n",
              "       [246.49031 ],\n",
              "       [244.45741 ],\n",
              "       [249.54918 ],\n",
              "       [250.92137 ],\n",
              "       [249.93689 ],\n",
              "       [252.24522 ],\n",
              "       [254.68036 ],\n",
              "       [250.94092 ],\n",
              "       [260.55618 ],\n",
              "       [264.9507  ],\n",
              "       [259.52823 ],\n",
              "       [256.54257 ],\n",
              "       [256.38013 ],\n",
              "       [261.10355 ],\n",
              "       [262.28033 ],\n",
              "       [260.21765 ],\n",
              "       [258.9022  ],\n",
              "       [260.24142 ],\n",
              "       [264.51    ],\n",
              "       [267.14267 ],\n",
              "       [269.01477 ],\n",
              "       [270.10178 ],\n",
              "       [269.46844 ],\n",
              "       [266.33704 ],\n",
              "       [264.60352 ],\n",
              "       [269.50473 ],\n",
              "       [274.28333 ],\n",
              "       [275.55432 ],\n",
              "       [278.303   ],\n",
              "       [274.98502 ],\n",
              "       [267.43597 ],\n",
              "       [266.11017 ],\n",
              "       [273.40732 ],\n",
              "       [274.40344 ],\n",
              "       [274.38745 ],\n",
              "       [268.91623 ],\n",
              "       [267.92844 ],\n",
              "       [245.54283 ],\n",
              "       [226.3945  ],\n",
              "       [225.53429 ],\n",
              "       [238.52638 ],\n",
              "       [245.99289 ],\n",
              "       [245.34813 ],\n",
              "       [244.1719  ],\n",
              "       [244.42184 ],\n",
              "       [246.48245 ],\n",
              "       [248.75632 ],\n",
              "       [250.39827 ],\n",
              "       [247.64368 ],\n",
              "       [250.0767  ],\n",
              "       [255.73122 ],\n",
              "       [253.64761 ],\n",
              "       [244.70685 ],\n",
              "       [246.91435 ],\n",
              "       [253.26544 ],\n",
              "       [257.2416  ],\n",
              "       [257.15555 ],\n",
              "       [253.0629  ],\n",
              "       [253.31277 ],\n",
              "       [256.16656 ],\n",
              "       [263.38943 ],\n",
              "       [261.9435  ],\n",
              "       [260.50317 ],\n",
              "       [253.93646 ],\n",
              "       [246.43938 ],\n",
              "       [243.56456 ],\n",
              "       [248.50842 ],\n",
              "       [254.89917 ],\n",
              "       [259.07092 ],\n",
              "       [257.50812 ],\n",
              "       [253.2175  ],\n",
              "       [254.68123 ],\n",
              "       [253.02821 ],\n",
              "       [263.40012 ],\n",
              "       [266.75348 ],\n",
              "       [259.78925 ],\n",
              "       [251.08154 ],\n",
              "       [255.6196  ],\n",
              "       [261.09747 ],\n",
              "       [259.13202 ],\n",
              "       [253.17299 ],\n",
              "       [246.39386 ],\n",
              "       [233.97795 ],\n",
              "       [233.95995 ],\n",
              "       [233.1218  ],\n",
              "       [229.77362 ],\n",
              "       [232.79291 ],\n",
              "       [239.35335 ],\n",
              "       [243.89177 ],\n",
              "       [236.91266 ],\n",
              "       [231.55782 ],\n",
              "       [232.47873 ],\n",
              "       [234.69995 ],\n",
              "       [238.95834 ],\n",
              "       [233.21884 ],\n",
              "       [227.92514 ],\n",
              "       [226.5349  ],\n",
              "       [231.16345 ],\n",
              "       [233.74042 ],\n",
              "       [232.91588 ],\n",
              "       [232.03447 ],\n",
              "       [229.07883 ],\n",
              "       [227.99185 ],\n",
              "       [230.44226 ],\n",
              "       [233.67342 ],\n",
              "       [237.20918 ],\n",
              "       [239.48141 ],\n",
              "       [236.04477 ],\n",
              "       [229.18784 ],\n",
              "       [223.1673  ],\n",
              "       [226.30151 ],\n",
              "       [228.77515 ],\n",
              "       [230.43082 ],\n",
              "       [231.8859  ],\n",
              "       [230.99332 ],\n",
              "       [231.16399 ],\n",
              "       [222.7532  ],\n",
              "       [216.25    ],\n",
              "       [214.68364 ],\n",
              "       [217.7832  ],\n",
              "       [220.43727 ],\n",
              "       [217.53838 ],\n",
              "       [218.76866 ],\n",
              "       [227.88754 ],\n",
              "       [234.995   ],\n",
              "       [234.41478 ],\n",
              "       [230.31453 ],\n",
              "       [226.95615 ],\n",
              "       [225.12384 ],\n",
              "       [227.17047 ],\n",
              "       [228.47574 ]], dtype=float32)"
            ]
          },
          "metadata": {},
          "execution_count": 21
        }
      ]
    },
    {
      "cell_type": "markdown",
      "source": [
        "**Calculating performance**"
      ],
      "metadata": {
        "id": "Rls4BZPilgjf"
      }
    },
    {
      "cell_type": "code",
      "source": [
        "performance = math.sqrt(mean_squared_error(ytest,test_predict))\n",
        "performance"
      ],
      "metadata": {
        "colab": {
          "base_uri": "https://localhost:8080/"
        },
        "id": "U9FVtElxjmo1",
        "outputId": "8bc29602-7189-4d13-a1dc-db85c8f8a9eb"
      },
      "execution_count": 22,
      "outputs": [
        {
          "output_type": "execute_result",
          "data": {
            "text/plain": [
              "0.04356797011569492"
            ]
          },
          "metadata": {},
          "execution_count": 22
        }
      ]
    },
    {
      "cell_type": "code",
      "source": [],
      "metadata": {
        "id": "Yc_R7X_nrKM6"
      },
      "execution_count": 22,
      "outputs": []
    }
  ]
}